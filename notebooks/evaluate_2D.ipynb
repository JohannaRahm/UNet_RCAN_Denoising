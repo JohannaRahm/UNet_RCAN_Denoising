{
 "cells": [
  {
   "cell_type": "code",
   "execution_count": null,
   "metadata": {},
   "outputs": [],
   "source": [
    "import os\n",
    "import numpy as np\n",
    "import tensorflow as tf\n",
    "from keras.models import Input\n",
    "from tifffile import imwrite\n",
    "import matplotlib.pyplot as plt\n",
    "from config_2D import CFG\n",
    "from data_generator import data_generator_2D\n",
    "from UNet_RCAN_2D import UNet_RCAN\n",
    "from loss import loss_2D\n",
    "from evaluation_parameters import nmse_psnr_ssim_2D"
   ]
  },
  {
   "cell_type": "code",
   "execution_count": null,
   "metadata": {},
   "outputs": [],
   "source": [
    "gpus = tf.config.list_physical_devices('GPU')\n",
    "if gpus:\n",
    "    try:\n",
    "        tf.config.set_logical_device_configuration(\n",
    "            gpus[0],\n",
    "            [tf.config.LogicalDeviceConfiguration(memory_limit=12000)])\n",
    "        logical_gpus = tf.config.list_logical_devices('GPU')\n",
    "        print(len(gpus), \"Physical GPUs,\", len(logical_gpus), \"Logical GPUs\")\n",
    "    except RuntimeError as e:\n",
    "        print(e)"
   ]
  },
  {
   "cell_type": "code",
   "execution_count": null,
   "metadata": {},
   "outputs": [],
   "source": [
    "data_config = CFG['data_test']\n",
    "model_config = CFG['model']\n",
    "x_test, y_test = data_generator_2D(data_config)"
   ]
  },
  {
   "cell_type": "code",
   "execution_count": null,
   "metadata": {},
   "outputs": [],
   "source": [
    "ix = np.random.randint(0,len(x_test),4)\n",
    "fig = plt.figure(figsize=(15,7))\n",
    "\n",
    "for i in range(4):\n",
    "    fig.add_subplot(2,4, 2*i+1)\n",
    "    cmap=plt.get_cmap('magma')\n",
    "    plt.imshow(x_test[ix[i],:,:,0].squeeze(),cmap)\n",
    "    plt.title('Low SNR',fontdict={'fontsize':18})\n",
    "    plt_axis = plt.axis('off')\n",
    "\n",
    "    fig.add_subplot(2,4, 2*i+2)\n",
    "    cmap=plt.get_cmap('magma')\n",
    "    plt.imshow(y_test[ix[i],:,:,0].squeeze(),cmap)\n",
    "    plt.title('High SNR',fontdict={'fontsize':18})\n",
    "    plt_axis = plt.axis('off')"
   ]
  },
  {
   "cell_type": "code",
   "execution_count": null,
   "metadata": {},
   "outputs": [],
   "source": [
    "model_input = Input((data_config['patch_size'], data_config['patch_size'], 1))\n",
    "model = UNet_RCAN(model_config)\n",
    "model(np.zeros((1, data_config['patch_size'], data_config['patch_size'], 1)))\n",
    "model.load_weights(model_config['save_dr'])\n",
    "\n",
    "prediction1 = np.zeros(x_test.shape)\n",
    "prediction2 = np.zeros(x_test.shape)\n",
    "\n",
    "for i in range(len(x_test)):\n",
    "    prediction1[i], prediction2[i] = model(x_test[i:i + 1], training=False)\n",
    "    prediction2[i] = prediction2[i] / prediction2[i].max()\n",
    "prediction2[prediction2 < 0] = 0"
   ]
  },
  {
   "cell_type": "code",
   "execution_count": null,
   "metadata": {
    "cellView": "form",
    "colab": {
     "base_uri": "https://localhost:8080/",
     "height": 708
    },
    "id": "Pl6pCBtNFOko",
    "outputId": "24ecab5f-9ec0-4bd7-8e1d-51ca3bbb8ed3"
   },
   "outputs": [],
   "source": [
    "ix = np.random.randint(len(prediction2))\n",
    "fig = plt.figure(figsize=(40,40))\n",
    "\n",
    "plt.subplot(1, 3, 1)\n",
    "plt.imshow(x_test[ix, :, :, 0] , cmap='magma')\n",
    "plt.title('Low SNR Input',fontdict={'fontsize':40})\n",
    "plt_axis = plt.axis('off')\n",
    "\n",
    "plt.subplot(1, 3, 2)\n",
    "plt.imshow(prediction2[ix, :, :, 0] , cmap='magma')\n",
    "plt.title('Prediction',fontdict={'fontsize':40})\n",
    "plt_axis = plt.axis('off')\n",
    "\n",
    "plt.subplot(1, 3, 3)\n",
    "plt.imshow(y_test[ix, :, :, 0] , cmap='magma')\n",
    "plt.title('Ground Truth',fontdict={'fontsize':40})\n",
    "plt_axis = plt.axis('off')"
   ]
  },
  {
   "cell_type": "code",
   "execution_count": null,
   "metadata": {
    "cellView": "form",
    "id": "tJ-bKyN3iyfm",
    "scrolled": false
   },
   "outputs": [],
   "source": [
    "imageq_param = np.zeros((6,len(prediction2)))\n",
    "\n",
    "imageq_param[0::2,:] = nmse_psnr_ssim_2D(x_test,y_test)\n",
    "imageq_param[1::2,:] = nmse_psnr_ssim_2D(prediction2,y_test)\n",
    "\n",
    "plt.rcParams.update({'font.size': 25})\n",
    "fig, axes = plt.subplots(nrows=1, ncols=3, figsize=(30, 10))\n",
    "labels = ['noisy', 'prediction']\n",
    "\n",
    "bplot1 = axes[0].boxplot([imageq_param[0,:],imageq_param[1,:]],\n",
    "                         vert=True,  \n",
    "                         patch_artist=True,  \n",
    "                         labels=labels,showfliers=False)\n",
    "axes[0].set_ylim(0, 1.2*imageq_param[0:2].max())\n",
    "axes[0].set_title('NMSE',fontsize=30)\n",
    "\n",
    "bplot2 = axes[1].boxplot([imageq_param[2,:],imageq_param[3,:]],\n",
    "                         vert=True,  \n",
    "                         patch_artist=True,  \n",
    "                         labels=labels,showfliers=False) \n",
    "axes[1].set_ylim(0, 1.5*imageq_param[2:4].max())\n",
    "axes[1].set_title('PSNR',fontsize=30)\n",
    "\n",
    "bplot3 = axes[2].boxplot([imageq_param[4,:],imageq_param[5,:]],\n",
    "                         vert=True,  \n",
    "                         patch_artist=True,  \n",
    "                         labels=labels,showfliers=False)\n",
    "\n",
    "axes[2].set_ylim(0, 1)\n",
    "cc= axes[2].set_title('MS-SSIM',fontsize=30)\n",
    "\n",
    "\n",
    "\n",
    "\n",
    "\n",
    "np.savetxt(os.path.join(data_config['save_dr'], '', 'eval_param.csv'), np.transpose(imageq_param),\n",
    "            header=\"NMSE_noisy,NMSE_prediction,PSNR_noisy,PSNR_prediction,SSIM_noisy,SSIM_prediction\", delimiter=\",\")\n",
    "plt.savefig(os.path.join(data_config['save_dr'], '', 'eval_param.tif'))\n",
    "plt.show()\n",
    "plt.close()"
   ]
  },
  {
   "cell_type": "code",
   "execution_count": null,
   "metadata": {},
   "outputs": [],
   "source": [
    "pred = (prediction2 * (2 ** 16 - 1)).astype(np.uint16)\n",
    "noisy = (x_test * (2 ** 16 - 1)).astype(np.uint16)\n",
    "gt = (y_test * (2 ** 16 - 1)).astype(np.uint16)\n",
    "\n",
    "imwrite(os.path.join(data_config['save_dr'], '', 'pred.tif'), pred.squeeze(), imagej=True, metadata={'axes': 'TYX'})\n",
    "imwrite(os.path.join(data_config['save_dr'], '', 'noisy.tif'), noisy.squeeze(), imagej=True, metadata={'axes': 'TYX'})\n",
    "imwrite(os.path.join(data_config['save_dr'], '', 'gt.tif'), gt.squeeze(), imagej=True, metadata={'axes': 'TYX'})"
   ]
  },
  {
   "cell_type": "code",
   "execution_count": null,
   "metadata": {},
   "outputs": [],
   "source": []
  }
 ],
 "metadata": {
  "accelerator": "GPU",
  "colab": {
   "collapsed_sections": [],
   "name": "Denoising_UNET_RCAN_3D.ipynb",
   "provenance": []
  },
  "gpuClass": "standard",
  "kernelspec": {
   "display_name": "Python 3 (ipykernel)",
   "language": "python",
   "name": "python3"
  },
  "language_info": {
   "codemirror_mode": {
    "name": "ipython",
    "version": 3
   },
   "file_extension": ".py",
   "mimetype": "text/x-python",
   "name": "python",
   "nbconvert_exporter": "python",
   "pygments_lexer": "ipython3",
   "version": "3.8.0"
  }
 },
 "nbformat": 4,
 "nbformat_minor": 1
}
